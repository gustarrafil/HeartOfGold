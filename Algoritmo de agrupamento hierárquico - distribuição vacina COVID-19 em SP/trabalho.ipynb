{
 "cells": [
  {
   "cell_type": "code",
   "execution_count": 1,
   "metadata": {},
   "outputs": [],
   "source": [
    "import pandas as pd\n",
    "import numpy as np\n",
    "import matplotlib as mpl\n",
    "import matplotlib.pyplot as plt\n",
    "import random\n",
    "%matplotlib inline\n",
    "import scipy.cluster.hierarchy as sch\n",
    "from scipy.cluster import hierarchy\n",
    "import sys\n",
    "from matplotlib.pyplot import cm\n",
    "from matplotlib.pyplot import figure\n",
    "from pylab import rcParams\n"
   ]
  },
  {
   "cell_type": "code",
   "execution_count": 2,
   "metadata": {},
   "outputs": [],
   "source": [
    "# acesso ao arquivo por leitura\n",
    "arquivo_municipíos = open('municipios.csv', 'r', encoding=\"utf8\")\n",
    "lista_municipios = arquivo_municipíos.readlines()\n",
    "arquivo_municipíos.close()\n",
    "\n",
    "# pular a linha inicial com as colunas que seriam da tabela\n",
    "\n",
    "lista_municipios = [item.strip() for item in lista_municipios[1:]]\n",
    "\n",
    "# filtro de municipios de SP e organizacao de informacoes em lista de dicionarios\n",
    "\n",
    "local_municipios = []\n",
    "for item in lista_municipios:\n",
    "    municipio = item.split(',')\n",
    "    if int(municipio[5]) == 35:\n",
    "        dicionario_municipio = {\n",
    "            'codigo': municipio[0],\n",
    "            'nome': municipio[1],\n",
    "            'latitude': municipio[2],\n",
    "            'longitude': municipio[3],\n",
    "            'capital': municipio[4],\n",
    "            'uf': municipio[5]\n",
    "        }\n",
    "        local_municipios.append(dicionario_municipio)"
   ]
  },
  {
   "cell_type": "code",
   "execution_count": 3,
   "metadata": {},
   "outputs": [
    {
     "name": "stderr",
     "output_type": "stream",
     "text": [
      "C:\\Users\\mrpad\\anaconda3\\lib\\site-packages\\ipykernel_launcher.py:12: SettingWithCopyWarning: \n",
      "A value is trying to be set on a copy of a slice from a DataFrame.\n",
      "Try using .loc[row_indexer,col_indexer] = value instead\n",
      "\n",
      "See the caveats in the documentation: https://pandas.pydata.org/pandas-docs/stable/user_guide/indexing.html#returning-a-view-versus-a-copy\n",
      "  if sys.path[0] == '':\n",
      "C:\\Users\\mrpad\\anaconda3\\lib\\site-packages\\ipykernel_launcher.py:13: SettingWithCopyWarning: \n",
      "A value is trying to be set on a copy of a slice from a DataFrame.\n",
      "Try using .loc[row_indexer,col_indexer] = value instead\n",
      "\n",
      "See the caveats in the documentation: https://pandas.pydata.org/pandas-docs/stable/user_guide/indexing.html#returning-a-view-versus-a-copy\n",
      "  del sys.path[0]\n"
     ]
    }
   ],
   "source": [
    "# acesso aos dados iniciais na planilha de Municipios\n",
    "\n",
    "arquivo_populacao = r'POP2020_20201030.xls'\n",
    "df_populacao = pd.read_excel(arquivo_populacao, sheet_name='Municípios', usecols=[0, 1, 2, 3, 4], skiprows=1)\n",
    "\n",
    "# filtro inicial para municipios de SP\n",
    "\n",
    "df_populacao = df_populacao[['UF', 'COD. UF', 'COD. MUNIC', 'NOME DO MUNICÍPIO', 'POPULAÇÃO ESTIMADA']]\n",
    "df_sao_paulo = df_populacao.loc[df_populacao['UF'] == 'SP']\n",
    "\n",
    "# conversao de tipos de dados para poder trabalhar (string -> int)\n",
    "df_sao_paulo['POPULAÇÃO ESTIMADA'] = df_sao_paulo['POPULAÇÃO ESTIMADA'].astype(int)\n",
    "df_sao_paulo['COD. MUNIC'] = df_sao_paulo['COD. MUNIC'].astype(int)\n",
    "\n"
   ]
  },
  {
   "cell_type": "code",
   "execution_count": 4,
   "metadata": {},
   "outputs": [],
   "source": [
    "# configuracao de dados em lista de dicionarios\n",
    "corte_população=350000\n",
    "sao_paulo_maiores = df_sao_paulo.loc[df_sao_paulo['POPULAÇÃO ESTIMADA'] >= corte_população]\n",
    "\n",
    "sao_paulo_maiores = sao_paulo_maiores.to_dict('records')"
   ]
  },
  {
   "cell_type": "code",
   "execution_count": 5,
   "metadata": {},
   "outputs": [],
   "source": [
    "# PROCESSAMENTO\n",
    "\n",
    "# comparacao dos dados filtrados para combinar a posicao com populacao\n",
    "lista_final = []\n",
    "for populacao in sao_paulo_maiores:\n",
    "    for coordenadas in local_municipios:\n",
    "        if coordenadas['nome'] == populacao['NOME DO MUNICÍPIO']:\n",
    "            infos_municipio = {\n",
    "                'nome': coordenadas['nome'],\n",
    "                'latitude': float(coordenadas['latitude']),\n",
    "                'longitude': float(coordenadas['longitude']),\n",
    "                'habitantes': populacao['POPULAÇÃO ESTIMADA']\n",
    "            }\n",
    "            lista_final.append(infos_municipio)"
   ]
  },
  {
   "cell_type": "code",
   "execution_count": 6,
   "metadata": {},
   "outputs": [],
   "source": [
    "# criacao da saida pronta dos dados para analise grafica em suas respectivas listas\n",
    "lista_posicoes = []\n",
    "for item in lista_final:\n",
    "    lat_long = [item['latitude'], item['longitude']]\n",
    "    lista_posicoes.append(lat_long)"
   ]
  },
  {
   "cell_type": "code",
   "execution_count": 7,
   "metadata": {},
   "outputs": [],
   "source": [
    "lista_nomes = []\n",
    "for item in lista_final:\n",
    "    lista_nomes.append(item['nome'])\n",
    "# lista_posicoes = [[1, 2], [1, 3], [2, 3], ...]\n",
    "# Array = [\"são Paulo\", \"Campinas\", ...\t# lista_nomes = [\"São Paulo\", \"Campinas\", ...]"
   ]
  },
  {
   "cell_type": "code",
   "execution_count": 8,
   "metadata": {},
   "outputs": [
    {
     "data": {
      "text/plain": [
       "21"
      ]
     },
     "execution_count": 8,
     "metadata": {},
     "output_type": "execute_result"
    }
   ],
   "source": [
    "len(lista_nomes)"
   ]
  },
  {
   "cell_type": "code",
   "execution_count": 9,
   "metadata": {},
   "outputs": [],
   "source": [
    "rcParams['figure.figsize'] = 14, 5\n",
    "hierarchy.set_link_color_palette(['r', 'g', 'm', 'y'])\n",
    "#Setando parametros de tamanho de figura e cores"
   ]
  },
  {
   "cell_type": "code",
   "execution_count": 10,
   "metadata": {},
   "outputs": [
    {
     "data": {
      "image/png": "[encoded data removed]",
      "text/plain": [
       "<Figure size 1008x360 with 1 Axes>"
      ]
     },
     "metadata": {
      "needs_background": "light"
     },
     "output_type": "display_data"
    }
   ],
   "source": [
    "#criando os agrupamentos usando a função linkage\n",
    "#usa distancia euclidiana e método Ward variance minimization algorithm\n",
    "dados=sch.linkage(lista_posicoes, method = 'ward', metric='euclidean')\n",
    "# gera o dendograma como imagem\n",
    "grafico=sch.dendrogram(dados,\n",
    "                       labels=lista_nomes,\n",
    "                       distance_sort='true',\n",
    "                       #,leaf_font_size=14\n",
    "                       leaf_rotation=90,\n",
    "                       color_threshold=1.8\n",
    "                      )#ordenada do menor para maior\n",
    "\n",
    "#parametros para plotar o gráfico e salvar como arquivo\n",
    "plt.title('Agrupamento das cidades')\n",
    "plt.xlabel('Nome das Cidades')\n",
    "plt.ylabel('Distancia entre Cidades')\n",
    "plt.savefig('dendrograma.jpg', bbox_inches='tight', dpi=500)\n",
    "plt.show()"
   ]
  }
 ],
 "metadata": {
  "kernelspec": {
   "display_name": "Python 3",
   "language": "python",
   "name": "python3"
  },
  "language_info": {
   "codemirror_mode": {
    "name": "ipython",
    "version": 3
   },
   "file_extension": ".py",
   "mimetype": "text/x-python",
   "name": "python",
   "nbconvert_exporter": "python",
   "pygments_lexer": "ipython3",
   "version": "3.7.9"
  }
 },
 "nbformat": 4,
 "nbformat_minor": 4
}
